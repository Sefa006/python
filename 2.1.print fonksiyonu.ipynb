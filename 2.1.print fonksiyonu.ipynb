{
 "cells": [
  {
   "cell_type": "markdown",
   "metadata": {},
   "source": [
    "# Print fonksiyonu ve çıkış formatlama"
   ]
  },
  {
   "cell_type": "markdown",
   "metadata": {},
   "source": [
    "print() fonksiyonu, ekrana yazı yazdırmak için kullandığımız bir fonksiyondur. "
   ]
  },
  {
   "cell_type": "markdown",
   "metadata": {},
   "source": [
    "Jupyter notebook' un özelliği olarak hücreler çalıştırıldığında otomatik olaak ekrana sonuç yazdırılır fakat bu etkileşimli kabuk olan Jupyter notebook' un özelliğidir ve Phycharm gibi IDE' ler ile ciddi ve büyük uygulamalarda print() fonksiyonu gereklidir. "
   ]
  },
  {
   "cell_type": "code",
   "execution_count": 1,
   "metadata": {},
   "outputs": [
    {
     "name": "stdout",
     "output_type": "stream",
     "text": [
      "3.14\n"
     ]
    }
   ],
   "source": [
    "print(3.14)"
   ]
  },
  {
   "cell_type": "code",
   "execution_count": 2,
   "metadata": {},
   "outputs": [
    {
     "data": {
      "text/plain": [
       "'Gökhan'"
      ]
     },
     "execution_count": 2,
     "metadata": {},
     "output_type": "execute_result"
    }
   ],
   "source": [
    "\"Gökhan\""
   ]
  },
  {
   "cell_type": "code",
   "execution_count": 3,
   "metadata": {},
   "outputs": [
    {
     "name": "stdout",
     "output_type": "stream",
     "text": [
      "Gökhan\n"
     ]
    }
   ],
   "source": [
    "print(\"Gökhan\")"
   ]
  },
  {
   "cell_type": "code",
   "execution_count": 5,
   "metadata": {},
   "outputs": [
    {
     "name": "stdout",
     "output_type": "stream",
     "text": [
      "Vatanını en çok seven görevini en iyi yapandır. Kemal Atatürk\n"
     ]
    }
   ],
   "source": [
    "print(\"Vatanını en çok seven görevini en iyi yapandır. Kemal Atatürk\")"
   ]
  },
  {
   "cell_type": "markdown",
   "metadata": {},
   "source": [
    "------"
   ]
  },
  {
   "cell_type": "markdown",
   "metadata": {},
   "source": [
    "print() fonksiyonun içerisinde birden fazla niceliğin aynı satırsa gösterilmesi istenirse nicelikler virgül ile ayrılmalıdır. "
   ]
  },
  {
   "cell_type": "code",
   "execution_count": 8,
   "metadata": {},
   "outputs": [
    {
     "name": "stdout",
     "output_type": "stream",
     "text": [
      "3.14 çay olsa da içsek 1000\n"
     ]
    }
   ],
   "source": [
    "print(3.14, \"çay olsa da içsek\", 10**3)"
   ]
  },
  {
   "cell_type": "markdown",
   "metadata": {},
   "source": [
    "Dikkat edilirse virgülle ayrılan nicelikler ekrana aralarında boşluk bırakılarak yazdırılmıştır "
   ]
  },
  {
   "cell_type": "markdown",
   "metadata": {},
   "source": [
    "# \\n ve \\t"
   ]
  },
  {
   "cell_type": "markdown",
   "metadata": {},
   "source": [
    "Stringlerde kullanılan iki özel karakter olan \\n ve \\t karakterlerine burada print() fonksiyonunda değinilebilir. "
   ]
  },
  {
   "cell_type": "markdown",
   "metadata": {},
   "source": [
    "Bir string değişkeni \\n ile yazılırsa \\n den sonraki satır bir alt satıra yazdırılır. \n"
   ]
  },
  {
   "cell_type": "code",
   "execution_count": 11,
   "metadata": {},
   "outputs": [
    {
     "name": "stdout",
     "output_type": "stream",
     "text": [
      "Vatanını\n",
      "en\n",
      "çok\n",
      "seven\n",
      "görevini\n",
      "en\n",
      "iyi\n",
      "yapandır\n",
      "Kemal Atatürk\n"
     ]
    }
   ],
   "source": [
    "print(\"Vatanını\\nen\\nçok\\nseven\\ngörevini\\nen\\niyi\\nyapandır\\nKemal Atatürk\")"
   ]
  },
  {
   "cell_type": "code",
   "execution_count": 12,
   "metadata": {},
   "outputs": [
    {
     "name": "stdout",
     "output_type": "stream",
     "text": [
      "Vatanını en çok seven\n",
      "görevini en iyi yapandır.\n",
      "Kemal Atatürk\n"
     ]
    }
   ],
   "source": [
    "print(\"Vatanını en çok seven\\ngörevini en iyi yapandır.\\nKemal Atatürk\")"
   ]
  },
  {
   "cell_type": "markdown",
   "metadata": {},
   "source": [
    "\\t nicelikler arasında boşluk bırakmak için kullanılır. Yeni sürümde \\t yazıldığında 2 boşluk sonraki \\t kullanımlarında bir TAB kadar boşluk oluşturur. "
   ]
  },
  {
   "cell_type": "code",
   "execution_count": 19,
   "metadata": {},
   "outputs": [
    {
     "name": "stdout",
     "output_type": "stream",
     "text": [
      "Gökhan\tTüreci\n"
     ]
    }
   ],
   "source": [
    "print(\"Gökhan\\tTüreci\")"
   ]
  },
  {
   "cell_type": "code",
   "execution_count": 22,
   "metadata": {},
   "outputs": [
    {
     "name": "stdout",
     "output_type": "stream",
     "text": [
      "Gökhan\t\tTüreci\n"
     ]
    }
   ],
   "source": [
    "print(\"Gökhan\\t\\tTüreci\")"
   ]
  },
  {
   "cell_type": "markdown",
   "metadata": {},
   "source": [
    "# type() fonksiyonu "
   ]
  },
  {
   "cell_type": "markdown",
   "metadata": {},
   "source": [
    "Bu fonksiyon, içine yazılan niceliğin tipini belirtiyor. Bu nedenle de oldukça faydalı bir fonksiyondur. "
   ]
  },
  {
   "cell_type": "code",
   "execution_count": 23,
   "metadata": {},
   "outputs": [
    {
     "data": {
      "text/plain": [
       "int"
      ]
     },
     "execution_count": 23,
     "metadata": {},
     "output_type": "execute_result"
    }
   ],
   "source": [
    "type(69)"
   ]
  },
  {
   "cell_type": "code",
   "execution_count": 24,
   "metadata": {},
   "outputs": [
    {
     "data": {
      "text/plain": [
       "float"
      ]
     },
     "execution_count": 24,
     "metadata": {},
     "output_type": "execute_result"
    }
   ],
   "source": [
    "type(3.14)"
   ]
  },
  {
   "cell_type": "code",
   "execution_count": 25,
   "metadata": {},
   "outputs": [
    {
     "data": {
      "text/plain": [
       "str"
      ]
     },
     "execution_count": 25,
     "metadata": {},
     "output_type": "execute_result"
    }
   ],
   "source": [
    "type(\"yapay zeka\")"
   ]
  },
  {
   "cell_type": "markdown",
   "metadata": {},
   "source": [
    "Bir değerin, hangi veri tipinde olduğu görülmek istenirse oldukça faydalı bir komuttur. "
   ]
  },
  {
   "cell_type": "markdown",
   "metadata": {},
   "source": [
    "# print() fonksiyonunun özellikleri "
   ]
  },
  {
   "cell_type": "markdown",
   "metadata": {},
   "source": [
    "sep = \"istenen karakter\" parametresi, ard arada yazdırılmak istenen niceliklerin arasına \"istenen karakter\" olarak belirtilen karakteri yerleştirir. "
   ]
  },
  {
   "cell_type": "code",
   "execution_count": 27,
   "metadata": {},
   "outputs": [
    {
     "name": "stdout",
     "output_type": "stream",
     "text": [
      "3.14*56*GS*792.14\n"
     ]
    }
   ],
   "source": [
    "print(3.14,56,\"GS\",792.14, sep = \"*\")"
   ]
  },
  {
   "cell_type": "code",
   "execution_count": 28,
   "metadata": {},
   "outputs": [
    {
     "name": "stdout",
     "output_type": "stream",
     "text": [
      "3.14ooo56oooGSooo792.14\n"
     ]
    }
   ],
   "source": [
    "print(3.14,56,\"GS\",792.14, sep = \"ooo\")"
   ]
  },
  {
   "cell_type": "code",
   "execution_count": 30,
   "metadata": {},
   "outputs": [
    {
     "name": "stdout",
     "output_type": "stream",
     "text": [
      "Gökhan/Türeci\n"
     ]
    }
   ],
   "source": [
    "print(\"Gökhan\",\"Türeci\", sep = \"/\")"
   ]
  },
  {
   "cell_type": "code",
   "execution_count": 31,
   "metadata": {},
   "outputs": [
    {
     "name": "stdout",
     "output_type": "stream",
     "text": [
      "Gökhan\n",
      "Türeci\n"
     ]
    }
   ],
   "source": [
    "print(\"Gökhan\",\"Türeci\", sep = \"\\n\")"
   ]
  },
  {
   "cell_type": "code",
   "execution_count": 33,
   "metadata": {},
   "outputs": [
    {
     "name": "stdout",
     "output_type": "stream",
     "text": [
      "19/05/1919\n"
     ]
    }
   ],
   "source": [
    "print(\"19\",\"05\",\"1919\", sep = \"/\")"
   ]
  },
  {
   "cell_type": "markdown",
   "metadata": {},
   "source": [
    "# yıldızlı parametreler"
   ]
  },
  {
   "cell_type": "code",
   "execution_count": 34,
   "metadata": {},
   "outputs": [
    {
     "name": "stdout",
     "output_type": "stream",
     "text": [
      "Python\n"
     ]
    }
   ],
   "source": [
    "print(\"Python\")"
   ]
  },
  {
   "cell_type": "code",
   "execution_count": 35,
   "metadata": {},
   "outputs": [
    {
     "name": "stdout",
     "output_type": "stream",
     "text": [
      "P y t h o n\n"
     ]
    }
   ],
   "source": [
    "print(*\"Python\")"
   ]
  },
  {
   "cell_type": "code",
   "execution_count": 36,
   "metadata": {},
   "outputs": [
    {
     "name": "stdout",
     "output_type": "stream",
     "text": [
      "T.B.M.M\n"
     ]
    }
   ],
   "source": [
    "print(\"T\",\"B\",\"M\",\"M\", sep =\".\")"
   ]
  },
  {
   "cell_type": "code",
   "execution_count": 37,
   "metadata": {},
   "outputs": [
    {
     "name": "stdout",
     "output_type": "stream",
     "text": [
      "T.B.M.M\n"
     ]
    }
   ],
   "source": [
    "print(*\"TBMM\", sep =\".\")"
   ]
  },
  {
   "cell_type": "markdown",
   "metadata": {},
   "source": [
    "# Çıkışı formatlama"
   ]
  },
  {
   "cell_type": "code",
   "execution_count": 40,
   "metadata": {},
   "outputs": [
    {
     "data": {
      "text/plain": [
       "'3.14, 9, 1001'"
      ]
     },
     "execution_count": 40,
     "metadata": {},
     "output_type": "execute_result"
    }
   ],
   "source": [
    "# Belirli sayıdaki süslü parantez {} kullanılarak aynı sayıdaki nicelik süslü parantezlerle yer değiştirilerek yazdılır \n",
    "\n",
    "\"{}, {}, {}\".format(3.14,9,1001)"
   ]
  },
  {
   "cell_type": "code",
   "execution_count": 41,
   "metadata": {},
   "outputs": [
    {
     "data": {
      "text/plain": [
       "'3.1491001'"
      ]
     },
     "execution_count": 41,
     "metadata": {},
     "output_type": "execute_result"
    }
   ],
   "source": [
    "\"{}{}{}\".format(3.14,9,1001)"
   ]
  },
  {
   "cell_type": "code",
   "execution_count": 42,
   "metadata": {},
   "outputs": [
    {
     "data": {
      "text/plain": [
       "'3.14 9 1001'"
      ]
     },
     "execution_count": 42,
     "metadata": {},
     "output_type": "execute_result"
    }
   ],
   "source": [
    "\"{} {} {}\".format(3.14,9,1001)"
   ]
  },
  {
   "cell_type": "code",
   "execution_count": 43,
   "metadata": {},
   "outputs": [
    {
     "name": "stdout",
     "output_type": "stream",
     "text": [
      "19 + 409 'in toplamı 428'dir.\n"
     ]
    }
   ],
   "source": [
    "x=19\n",
    "y=409\n",
    "print(\"{} + {} 'in toplamı {}'dir.\".format(x,y,(x+y)))"
   ]
  },
  {
   "cell_type": "code",
   "execution_count": 47,
   "metadata": {},
   "outputs": [
    {
     "data": {
      "text/plain": [
       "'Türk Öğün Çalış Güven'"
      ]
     },
     "execution_count": 47,
     "metadata": {},
     "output_type": "execute_result"
    }
   ],
   "source": [
    "# Süslü parantez içine sayılar yazılırsa, bu indeks numaralarına karşı gelir\n",
    "# format içindeki dizi, indeks numaralarına göre parantezlerle yer değişir. \n",
    "\n",
    "\"{2} {1} {0} {3}\".format(\"Çalış\",\"Öğün\",\"Türk\",\"Güven\")"
   ]
  },
  {
   "cell_type": "code",
   "execution_count": 50,
   "metadata": {},
   "outputs": [
    {
     "data": {
      "text/plain": [
       "'3.14 3.1416 3.14159265'"
      ]
     },
     "execution_count": 50,
     "metadata": {},
     "output_type": "execute_result"
    }
   ],
   "source": [
    "# Ssülü parantezin aşağıdaki gibi kullanımında, ondalıklı sayıların \n",
    "# belirtilen basamak sayısıyla yazılması sağlanır\n",
    "\n",
    "\"{:.2f} {:.4f} {:.8f}\".format(3.14159265358979,3.14159265358979,3.14159265358979,3.14159265358979)"
   ]
  },
  {
   "cell_type": "code",
   "execution_count": null,
   "metadata": {},
   "outputs": [],
   "source": []
  }
 ],
 "metadata": {
  "kernelspec": {
   "display_name": "Python 3",
   "language": "python",
   "name": "python3"
  },
  "language_info": {
   "codemirror_mode": {
    "name": "ipython",
    "version": 3
   },
   "file_extension": ".py",
   "mimetype": "text/x-python",
   "name": "python",
   "nbconvert_exporter": "python",
   "pygments_lexer": "ipython3",
   "version": "3.8.8"
  }
 },
 "nbformat": 4,
 "nbformat_minor": 2
}
