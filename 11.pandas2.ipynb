{
 "cells": [
  {
   "cell_type": "markdown",
   "id": "0f8b5f7d",
   "metadata": {},
   "source": [
    "# DataFrame'lerin multiindex ile gruplanması"
   ]
  },
  {
   "cell_type": "code",
   "execution_count": 1,
   "id": "aa3e7fe0",
   "metadata": {},
   "outputs": [],
   "source": [
    "import numpy as np\n",
    "import pandas as pd\n",
    "from numpy.random import randn"
   ]
  },
  {
   "cell_type": "code",
   "execution_count": 2,
   "id": "f1d3ba4a",
   "metadata": {},
   "outputs": [],
   "source": [
    "outerIndex = [\"Group1\",\"Group1\",\"Group1\",\"Group2\",\"Group2\",\"Group2\",\"Group3\",\"Group3\",\"Group3\"]"
   ]
  },
  {
   "cell_type": "code",
   "execution_count": 3,
   "id": "39d5f42d",
   "metadata": {},
   "outputs": [],
   "source": [
    "innerIndex = [\"Index1\",\"Index2\",\"Index3\",\"Index1\",\"Index2\",\"Index3\",\"Index1\",\"Index2\",\"Index3\"]"
   ]
  },
  {
   "cell_type": "code",
   "execution_count": 4,
   "id": "316c844a",
   "metadata": {},
   "outputs": [],
   "source": [
    "# zip ile demet şeklinde birleştirme yapabiliyoruz."
   ]
  },
  {
   "cell_type": "code",
   "execution_count": 5,
   "id": "352fac4d",
   "metadata": {},
   "outputs": [
    {
     "data": {
      "text/plain": [
       "[('Group1', 'Index1'),\n",
       " ('Group1', 'Index2'),\n",
       " ('Group1', 'Index3'),\n",
       " ('Group2', 'Index1'),\n",
       " ('Group2', 'Index2'),\n",
       " ('Group2', 'Index3'),\n",
       " ('Group3', 'Index1'),\n",
       " ('Group3', 'Index2'),\n",
       " ('Group3', 'Index3')]"
      ]
     },
     "execution_count": 5,
     "metadata": {},
     "output_type": "execute_result"
    }
   ],
   "source": [
    "list(zip(outerIndex,innerIndex))"
   ]
  },
  {
   "cell_type": "code",
   "execution_count": 7,
   "id": "16a92c8f",
   "metadata": {},
   "outputs": [],
   "source": [
    "hi = list(zip(outerIndex,innerIndex))\n",
    "hi = pd.MultiIndex.from_tuples(hi)"
   ]
  },
  {
   "cell_type": "code",
   "execution_count": 8,
   "id": "62f8849b",
   "metadata": {},
   "outputs": [
    {
     "data": {
      "text/plain": [
       "MultiIndex([('Group1', 'Index1'),\n",
       "            ('Group1', 'Index2'),\n",
       "            ('Group1', 'Index3'),\n",
       "            ('Group2', 'Index1'),\n",
       "            ('Group2', 'Index2'),\n",
       "            ('Group2', 'Index3'),\n",
       "            ('Group3', 'Index1'),\n",
       "            ('Group3', 'Index2'),\n",
       "            ('Group3', 'Index3')],\n",
       "           )"
      ]
     },
     "execution_count": 8,
     "metadata": {},
     "output_type": "execute_result"
    }
   ],
   "source": [
    "hi"
   ]
  },
  {
   "cell_type": "code",
   "execution_count": 9,
   "id": "52774c8c",
   "metadata": {},
   "outputs": [
    {
     "data": {
      "text/html": [
       "<div>\n",
       "<style scoped>\n",
       "    .dataframe tbody tr th:only-of-type {\n",
       "        vertical-align: middle;\n",
       "    }\n",
       "\n",
       "    .dataframe tbody tr th {\n",
       "        vertical-align: top;\n",
       "    }\n",
       "\n",
       "    .dataframe thead th {\n",
       "        text-align: right;\n",
       "    }\n",
       "</style>\n",
       "<table border=\"1\" class=\"dataframe\">\n",
       "  <thead>\n",
       "    <tr style=\"text-align: right;\">\n",
       "      <th></th>\n",
       "      <th></th>\n",
       "      <th>A</th>\n",
       "      <th>B</th>\n",
       "      <th>C</th>\n",
       "    </tr>\n",
       "  </thead>\n",
       "  <tbody>\n",
       "    <tr>\n",
       "      <th rowspan=\"3\" valign=\"top\">Group1</th>\n",
       "      <th>Index1</th>\n",
       "      <td>-1.169962</td>\n",
       "      <td>-1.043647</td>\n",
       "      <td>0.047114</td>\n",
       "    </tr>\n",
       "    <tr>\n",
       "      <th>Index2</th>\n",
       "      <td>-1.246128</td>\n",
       "      <td>0.889024</td>\n",
       "      <td>-2.457309</td>\n",
       "    </tr>\n",
       "    <tr>\n",
       "      <th>Index3</th>\n",
       "      <td>-0.733757</td>\n",
       "      <td>1.345982</td>\n",
       "      <td>-0.639646</td>\n",
       "    </tr>\n",
       "    <tr>\n",
       "      <th rowspan=\"3\" valign=\"top\">Group2</th>\n",
       "      <th>Index1</th>\n",
       "      <td>0.538556</td>\n",
       "      <td>0.329624</td>\n",
       "      <td>-1.875286</td>\n",
       "    </tr>\n",
       "    <tr>\n",
       "      <th>Index2</th>\n",
       "      <td>0.057837</td>\n",
       "      <td>0.918757</td>\n",
       "      <td>0.104299</td>\n",
       "    </tr>\n",
       "    <tr>\n",
       "      <th>Index3</th>\n",
       "      <td>-0.482187</td>\n",
       "      <td>-2.348443</td>\n",
       "      <td>-0.949449</td>\n",
       "    </tr>\n",
       "    <tr>\n",
       "      <th rowspan=\"3\" valign=\"top\">Group3</th>\n",
       "      <th>Index1</th>\n",
       "      <td>1.316031</td>\n",
       "      <td>0.727311</td>\n",
       "      <td>-0.136721</td>\n",
       "    </tr>\n",
       "    <tr>\n",
       "      <th>Index2</th>\n",
       "      <td>0.240149</td>\n",
       "      <td>-0.088559</td>\n",
       "      <td>-0.120324</td>\n",
       "    </tr>\n",
       "    <tr>\n",
       "      <th>Index3</th>\n",
       "      <td>0.775475</td>\n",
       "      <td>0.907580</td>\n",
       "      <td>1.354074</td>\n",
       "    </tr>\n",
       "  </tbody>\n",
       "</table>\n",
       "</div>"
      ],
      "text/plain": [
       "                      A         B         C\n",
       "Group1 Index1 -1.169962 -1.043647  0.047114\n",
       "       Index2 -1.246128  0.889024 -2.457309\n",
       "       Index3 -0.733757  1.345982 -0.639646\n",
       "Group2 Index1  0.538556  0.329624 -1.875286\n",
       "       Index2  0.057837  0.918757  0.104299\n",
       "       Index3 -0.482187 -2.348443 -0.949449\n",
       "Group3 Index1  1.316031  0.727311 -0.136721\n",
       "       Index2  0.240149 -0.088559 -0.120324\n",
       "       Index3  0.775475  0.907580  1.354074"
      ]
     },
     "execution_count": 9,
     "metadata": {},
     "output_type": "execute_result"
    }
   ],
   "source": [
    "df = pd.DataFrame(randn(9,3),hi,columns = [\"A\",\"B\",\"C\"])\n",
    "df"
   ]
  },
  {
   "cell_type": "code",
   "execution_count": 10,
   "id": "e22165bb",
   "metadata": {},
   "outputs": [
    {
     "data": {
      "text/plain": [
       "Group1  Index1   -1.169962\n",
       "        Index2   -1.246128\n",
       "        Index3   -0.733757\n",
       "Group2  Index1    0.538556\n",
       "        Index2    0.057837\n",
       "        Index3   -0.482187\n",
       "Group3  Index1    1.316031\n",
       "        Index2    0.240149\n",
       "        Index3    0.775475\n",
       "Name: A, dtype: float64"
      ]
     },
     "execution_count": 10,
     "metadata": {},
     "output_type": "execute_result"
    }
   ],
   "source": [
    "df[\"A\"]"
   ]
  },
  {
   "cell_type": "code",
   "execution_count": 11,
   "id": "33bd3859",
   "metadata": {},
   "outputs": [
    {
     "data": {
      "text/html": [
       "<div>\n",
       "<style scoped>\n",
       "    .dataframe tbody tr th:only-of-type {\n",
       "        vertical-align: middle;\n",
       "    }\n",
       "\n",
       "    .dataframe tbody tr th {\n",
       "        vertical-align: top;\n",
       "    }\n",
       "\n",
       "    .dataframe thead th {\n",
       "        text-align: right;\n",
       "    }\n",
       "</style>\n",
       "<table border=\"1\" class=\"dataframe\">\n",
       "  <thead>\n",
       "    <tr style=\"text-align: right;\">\n",
       "      <th></th>\n",
       "      <th>A</th>\n",
       "      <th>B</th>\n",
       "      <th>C</th>\n",
       "    </tr>\n",
       "  </thead>\n",
       "  <tbody>\n",
       "    <tr>\n",
       "      <th>Index1</th>\n",
       "      <td>-1.169962</td>\n",
       "      <td>-1.043647</td>\n",
       "      <td>0.047114</td>\n",
       "    </tr>\n",
       "    <tr>\n",
       "      <th>Index2</th>\n",
       "      <td>-1.246128</td>\n",
       "      <td>0.889024</td>\n",
       "      <td>-2.457309</td>\n",
       "    </tr>\n",
       "    <tr>\n",
       "      <th>Index3</th>\n",
       "      <td>-0.733757</td>\n",
       "      <td>1.345982</td>\n",
       "      <td>-0.639646</td>\n",
       "    </tr>\n",
       "  </tbody>\n",
       "</table>\n",
       "</div>"
      ],
      "text/plain": [
       "               A         B         C\n",
       "Index1 -1.169962 -1.043647  0.047114\n",
       "Index2 -1.246128  0.889024 -2.457309\n",
       "Index3 -0.733757  1.345982 -0.639646"
      ]
     },
     "execution_count": 11,
     "metadata": {},
     "output_type": "execute_result"
    }
   ],
   "source": [
    "df.loc[\"Group1\"]"
   ]
  },
  {
   "cell_type": "code",
   "execution_count": 12,
   "id": "64f979a3",
   "metadata": {},
   "outputs": [
    {
     "data": {
      "text/html": [
       "<div>\n",
       "<style scoped>\n",
       "    .dataframe tbody tr th:only-of-type {\n",
       "        vertical-align: middle;\n",
       "    }\n",
       "\n",
       "    .dataframe tbody tr th {\n",
       "        vertical-align: top;\n",
       "    }\n",
       "\n",
       "    .dataframe thead th {\n",
       "        text-align: right;\n",
       "    }\n",
       "</style>\n",
       "<table border=\"1\" class=\"dataframe\">\n",
       "  <thead>\n",
       "    <tr style=\"text-align: right;\">\n",
       "      <th></th>\n",
       "      <th></th>\n",
       "      <th>A</th>\n",
       "      <th>B</th>\n",
       "      <th>C</th>\n",
       "    </tr>\n",
       "  </thead>\n",
       "  <tbody>\n",
       "    <tr>\n",
       "      <th rowspan=\"3\" valign=\"top\">Group1</th>\n",
       "      <th>Index1</th>\n",
       "      <td>-1.169962</td>\n",
       "      <td>-1.043647</td>\n",
       "      <td>0.047114</td>\n",
       "    </tr>\n",
       "    <tr>\n",
       "      <th>Index2</th>\n",
       "      <td>-1.246128</td>\n",
       "      <td>0.889024</td>\n",
       "      <td>-2.457309</td>\n",
       "    </tr>\n",
       "    <tr>\n",
       "      <th>Index3</th>\n",
       "      <td>-0.733757</td>\n",
       "      <td>1.345982</td>\n",
       "      <td>-0.639646</td>\n",
       "    </tr>\n",
       "    <tr>\n",
       "      <th rowspan=\"3\" valign=\"top\">Group2</th>\n",
       "      <th>Index1</th>\n",
       "      <td>0.538556</td>\n",
       "      <td>0.329624</td>\n",
       "      <td>-1.875286</td>\n",
       "    </tr>\n",
       "    <tr>\n",
       "      <th>Index2</th>\n",
       "      <td>0.057837</td>\n",
       "      <td>0.918757</td>\n",
       "      <td>0.104299</td>\n",
       "    </tr>\n",
       "    <tr>\n",
       "      <th>Index3</th>\n",
       "      <td>-0.482187</td>\n",
       "      <td>-2.348443</td>\n",
       "      <td>-0.949449</td>\n",
       "    </tr>\n",
       "  </tbody>\n",
       "</table>\n",
       "</div>"
      ],
      "text/plain": [
       "                      A         B         C\n",
       "Group1 Index1 -1.169962 -1.043647  0.047114\n",
       "       Index2 -1.246128  0.889024 -2.457309\n",
       "       Index3 -0.733757  1.345982 -0.639646\n",
       "Group2 Index1  0.538556  0.329624 -1.875286\n",
       "       Index2  0.057837  0.918757  0.104299\n",
       "       Index3 -0.482187 -2.348443 -0.949449"
      ]
     },
     "execution_count": 12,
     "metadata": {},
     "output_type": "execute_result"
    }
   ],
   "source": [
    "df.loc[[\"Group1\",\"Group2\"]]"
   ]
  },
  {
   "cell_type": "code",
   "execution_count": 13,
   "id": "d64135b3",
   "metadata": {},
   "outputs": [
    {
     "data": {
      "text/plain": [
       "A   -1.169962\n",
       "B   -1.043647\n",
       "C    0.047114\n",
       "Name: Index1, dtype: float64"
      ]
     },
     "execution_count": 13,
     "metadata": {},
     "output_type": "execute_result"
    }
   ],
   "source": [
    "df.loc[\"Group1\"].loc[\"Index1\"]"
   ]
  },
  {
   "cell_type": "code",
   "execution_count": 14,
   "id": "73eaed12",
   "metadata": {},
   "outputs": [
    {
     "data": {
      "text/plain": [
       "-1.1699621966341731"
      ]
     },
     "execution_count": 14,
     "metadata": {},
     "output_type": "execute_result"
    }
   ],
   "source": [
    "df.loc[\"Group1\"].loc[\"Index1\"][\"A\"]"
   ]
  },
  {
   "cell_type": "code",
   "execution_count": 15,
   "id": "3321926e",
   "metadata": {},
   "outputs": [],
   "source": [
    "df.index.names = [\"Groups\",\"Indexes\"]"
   ]
  },
  {
   "cell_type": "code",
   "execution_count": 16,
   "id": "c62b42ce",
   "metadata": {},
   "outputs": [
    {
     "data": {
      "text/html": [
       "<div>\n",
       "<style scoped>\n",
       "    .dataframe tbody tr th:only-of-type {\n",
       "        vertical-align: middle;\n",
       "    }\n",
       "\n",
       "    .dataframe tbody tr th {\n",
       "        vertical-align: top;\n",
       "    }\n",
       "\n",
       "    .dataframe thead th {\n",
       "        text-align: right;\n",
       "    }\n",
       "</style>\n",
       "<table border=\"1\" class=\"dataframe\">\n",
       "  <thead>\n",
       "    <tr style=\"text-align: right;\">\n",
       "      <th></th>\n",
       "      <th></th>\n",
       "      <th>A</th>\n",
       "      <th>B</th>\n",
       "      <th>C</th>\n",
       "    </tr>\n",
       "    <tr>\n",
       "      <th>Groups</th>\n",
       "      <th>Indexes</th>\n",
       "      <th></th>\n",
       "      <th></th>\n",
       "      <th></th>\n",
       "    </tr>\n",
       "  </thead>\n",
       "  <tbody>\n",
       "    <tr>\n",
       "      <th rowspan=\"3\" valign=\"top\">Group1</th>\n",
       "      <th>Index1</th>\n",
       "      <td>-1.169962</td>\n",
       "      <td>-1.043647</td>\n",
       "      <td>0.047114</td>\n",
       "    </tr>\n",
       "    <tr>\n",
       "      <th>Index2</th>\n",
       "      <td>-1.246128</td>\n",
       "      <td>0.889024</td>\n",
       "      <td>-2.457309</td>\n",
       "    </tr>\n",
       "    <tr>\n",
       "      <th>Index3</th>\n",
       "      <td>-0.733757</td>\n",
       "      <td>1.345982</td>\n",
       "      <td>-0.639646</td>\n",
       "    </tr>\n",
       "    <tr>\n",
       "      <th rowspan=\"3\" valign=\"top\">Group2</th>\n",
       "      <th>Index1</th>\n",
       "      <td>0.538556</td>\n",
       "      <td>0.329624</td>\n",
       "      <td>-1.875286</td>\n",
       "    </tr>\n",
       "    <tr>\n",
       "      <th>Index2</th>\n",
       "      <td>0.057837</td>\n",
       "      <td>0.918757</td>\n",
       "      <td>0.104299</td>\n",
       "    </tr>\n",
       "    <tr>\n",
       "      <th>Index3</th>\n",
       "      <td>-0.482187</td>\n",
       "      <td>-2.348443</td>\n",
       "      <td>-0.949449</td>\n",
       "    </tr>\n",
       "    <tr>\n",
       "      <th rowspan=\"3\" valign=\"top\">Group3</th>\n",
       "      <th>Index1</th>\n",
       "      <td>1.316031</td>\n",
       "      <td>0.727311</td>\n",
       "      <td>-0.136721</td>\n",
       "    </tr>\n",
       "    <tr>\n",
       "      <th>Index2</th>\n",
       "      <td>0.240149</td>\n",
       "      <td>-0.088559</td>\n",
       "      <td>-0.120324</td>\n",
       "    </tr>\n",
       "    <tr>\n",
       "      <th>Index3</th>\n",
       "      <td>0.775475</td>\n",
       "      <td>0.907580</td>\n",
       "      <td>1.354074</td>\n",
       "    </tr>\n",
       "  </tbody>\n",
       "</table>\n",
       "</div>"
      ],
      "text/plain": [
       "                       A         B         C\n",
       "Groups Indexes                              \n",
       "Group1 Index1  -1.169962 -1.043647  0.047114\n",
       "       Index2  -1.246128  0.889024 -2.457309\n",
       "       Index3  -0.733757  1.345982 -0.639646\n",
       "Group2 Index1   0.538556  0.329624 -1.875286\n",
       "       Index2   0.057837  0.918757  0.104299\n",
       "       Index3  -0.482187 -2.348443 -0.949449\n",
       "Group3 Index1   1.316031  0.727311 -0.136721\n",
       "       Index2   0.240149 -0.088559 -0.120324\n",
       "       Index3   0.775475  0.907580  1.354074"
      ]
     },
     "execution_count": 16,
     "metadata": {},
     "output_type": "execute_result"
    }
   ],
   "source": [
    "df"
   ]
  },
  {
   "cell_type": "markdown",
   "id": "a1d0b1d0",
   "metadata": {},
   "source": [
    "# xs() ile Sorgulama"
   ]
  },
  {
   "cell_type": "code",
   "execution_count": 17,
   "id": "a8bbb72a",
   "metadata": {},
   "outputs": [
    {
     "data": {
      "text/html": [
       "<div>\n",
       "<style scoped>\n",
       "    .dataframe tbody tr th:only-of-type {\n",
       "        vertical-align: middle;\n",
       "    }\n",
       "\n",
       "    .dataframe tbody tr th {\n",
       "        vertical-align: top;\n",
       "    }\n",
       "\n",
       "    .dataframe thead th {\n",
       "        text-align: right;\n",
       "    }\n",
       "</style>\n",
       "<table border=\"1\" class=\"dataframe\">\n",
       "  <thead>\n",
       "    <tr style=\"text-align: right;\">\n",
       "      <th></th>\n",
       "      <th></th>\n",
       "      <th>A</th>\n",
       "      <th>B</th>\n",
       "      <th>C</th>\n",
       "    </tr>\n",
       "    <tr>\n",
       "      <th>Groups</th>\n",
       "      <th>Indexes</th>\n",
       "      <th></th>\n",
       "      <th></th>\n",
       "      <th></th>\n",
       "    </tr>\n",
       "  </thead>\n",
       "  <tbody>\n",
       "    <tr>\n",
       "      <th rowspan=\"3\" valign=\"top\">Group1</th>\n",
       "      <th>Index1</th>\n",
       "      <td>-1.169962</td>\n",
       "      <td>-1.043647</td>\n",
       "      <td>0.047114</td>\n",
       "    </tr>\n",
       "    <tr>\n",
       "      <th>Index2</th>\n",
       "      <td>-1.246128</td>\n",
       "      <td>0.889024</td>\n",
       "      <td>-2.457309</td>\n",
       "    </tr>\n",
       "    <tr>\n",
       "      <th>Index3</th>\n",
       "      <td>-0.733757</td>\n",
       "      <td>1.345982</td>\n",
       "      <td>-0.639646</td>\n",
       "    </tr>\n",
       "    <tr>\n",
       "      <th rowspan=\"3\" valign=\"top\">Group2</th>\n",
       "      <th>Index1</th>\n",
       "      <td>0.538556</td>\n",
       "      <td>0.329624</td>\n",
       "      <td>-1.875286</td>\n",
       "    </tr>\n",
       "    <tr>\n",
       "      <th>Index2</th>\n",
       "      <td>0.057837</td>\n",
       "      <td>0.918757</td>\n",
       "      <td>0.104299</td>\n",
       "    </tr>\n",
       "    <tr>\n",
       "      <th>Index3</th>\n",
       "      <td>-0.482187</td>\n",
       "      <td>-2.348443</td>\n",
       "      <td>-0.949449</td>\n",
       "    </tr>\n",
       "    <tr>\n",
       "      <th rowspan=\"3\" valign=\"top\">Group3</th>\n",
       "      <th>Index1</th>\n",
       "      <td>1.316031</td>\n",
       "      <td>0.727311</td>\n",
       "      <td>-0.136721</td>\n",
       "    </tr>\n",
       "    <tr>\n",
       "      <th>Index2</th>\n",
       "      <td>0.240149</td>\n",
       "      <td>-0.088559</td>\n",
       "      <td>-0.120324</td>\n",
       "    </tr>\n",
       "    <tr>\n",
       "      <th>Index3</th>\n",
       "      <td>0.775475</td>\n",
       "      <td>0.907580</td>\n",
       "      <td>1.354074</td>\n",
       "    </tr>\n",
       "  </tbody>\n",
       "</table>\n",
       "</div>"
      ],
      "text/plain": [
       "                       A         B         C\n",
       "Groups Indexes                              \n",
       "Group1 Index1  -1.169962 -1.043647  0.047114\n",
       "       Index2  -1.246128  0.889024 -2.457309\n",
       "       Index3  -0.733757  1.345982 -0.639646\n",
       "Group2 Index1   0.538556  0.329624 -1.875286\n",
       "       Index2   0.057837  0.918757  0.104299\n",
       "       Index3  -0.482187 -2.348443 -0.949449\n",
       "Group3 Index1   1.316031  0.727311 -0.136721\n",
       "       Index2   0.240149 -0.088559 -0.120324\n",
       "       Index3   0.775475  0.907580  1.354074"
      ]
     },
     "execution_count": 17,
     "metadata": {},
     "output_type": "execute_result"
    }
   ],
   "source": [
    "df"
   ]
  },
  {
   "cell_type": "code",
   "execution_count": 18,
   "id": "949abaec",
   "metadata": {},
   "outputs": [
    {
     "data": {
      "text/html": [
       "<div>\n",
       "<style scoped>\n",
       "    .dataframe tbody tr th:only-of-type {\n",
       "        vertical-align: middle;\n",
       "    }\n",
       "\n",
       "    .dataframe tbody tr th {\n",
       "        vertical-align: top;\n",
       "    }\n",
       "\n",
       "    .dataframe thead th {\n",
       "        text-align: right;\n",
       "    }\n",
       "</style>\n",
       "<table border=\"1\" class=\"dataframe\">\n",
       "  <thead>\n",
       "    <tr style=\"text-align: right;\">\n",
       "      <th></th>\n",
       "      <th>A</th>\n",
       "      <th>B</th>\n",
       "      <th>C</th>\n",
       "    </tr>\n",
       "    <tr>\n",
       "      <th>Indexes</th>\n",
       "      <th></th>\n",
       "      <th></th>\n",
       "      <th></th>\n",
       "    </tr>\n",
       "  </thead>\n",
       "  <tbody>\n",
       "    <tr>\n",
       "      <th>Index1</th>\n",
       "      <td>-1.169962</td>\n",
       "      <td>-1.043647</td>\n",
       "      <td>0.047114</td>\n",
       "    </tr>\n",
       "    <tr>\n",
       "      <th>Index2</th>\n",
       "      <td>-1.246128</td>\n",
       "      <td>0.889024</td>\n",
       "      <td>-2.457309</td>\n",
       "    </tr>\n",
       "    <tr>\n",
       "      <th>Index3</th>\n",
       "      <td>-0.733757</td>\n",
       "      <td>1.345982</td>\n",
       "      <td>-0.639646</td>\n",
       "    </tr>\n",
       "  </tbody>\n",
       "</table>\n",
       "</div>"
      ],
      "text/plain": [
       "                A         B         C\n",
       "Indexes                              \n",
       "Index1  -1.169962 -1.043647  0.047114\n",
       "Index2  -1.246128  0.889024 -2.457309\n",
       "Index3  -0.733757  1.345982 -0.639646"
      ]
     },
     "execution_count": 18,
     "metadata": {},
     "output_type": "execute_result"
    }
   ],
   "source": [
    "df.xs(\"Group1\")"
   ]
  },
  {
   "cell_type": "code",
   "execution_count": 19,
   "id": "3efba4e6",
   "metadata": {},
   "outputs": [
    {
     "data": {
      "text/plain": [
       "A   -1.169962\n",
       "B   -1.043647\n",
       "C    0.047114\n",
       "Name: Index1, dtype: float64"
      ]
     },
     "execution_count": 19,
     "metadata": {},
     "output_type": "execute_result"
    }
   ],
   "source": [
    "df.xs(\"Group1\").xs(\"Index1\")"
   ]
  },
  {
   "cell_type": "code",
   "execution_count": 20,
   "id": "ddd8d0e7",
   "metadata": {},
   "outputs": [
    {
     "data": {
      "text/plain": [
       "-1.1699621966341731"
      ]
     },
     "execution_count": 20,
     "metadata": {},
     "output_type": "execute_result"
    }
   ],
   "source": [
    "df.xs(\"Group1\").xs(\"Index1\").xs(\"A\")"
   ]
  },
  {
   "cell_type": "code",
   "execution_count": 20,
   "id": "7f9018eb",
   "metadata": {},
   "outputs": [],
   "source": [
    "#level belirterek içeriden de gezebiliriz."
   ]
  },
  {
   "cell_type": "code",
   "execution_count": 21,
   "id": "6a068aef",
   "metadata": {},
   "outputs": [
    {
     "data": {
      "text/html": [
       "<div>\n",
       "<style scoped>\n",
       "    .dataframe tbody tr th:only-of-type {\n",
       "        vertical-align: middle;\n",
       "    }\n",
       "\n",
       "    .dataframe tbody tr th {\n",
       "        vertical-align: top;\n",
       "    }\n",
       "\n",
       "    .dataframe thead th {\n",
       "        text-align: right;\n",
       "    }\n",
       "</style>\n",
       "<table border=\"1\" class=\"dataframe\">\n",
       "  <thead>\n",
       "    <tr style=\"text-align: right;\">\n",
       "      <th></th>\n",
       "      <th></th>\n",
       "      <th>A</th>\n",
       "      <th>B</th>\n",
       "      <th>C</th>\n",
       "    </tr>\n",
       "    <tr>\n",
       "      <th>Groups</th>\n",
       "      <th>Indexes</th>\n",
       "      <th></th>\n",
       "      <th></th>\n",
       "      <th></th>\n",
       "    </tr>\n",
       "  </thead>\n",
       "  <tbody>\n",
       "    <tr>\n",
       "      <th rowspan=\"3\" valign=\"top\">Group1</th>\n",
       "      <th>Index1</th>\n",
       "      <td>-1.169962</td>\n",
       "      <td>-1.043647</td>\n",
       "      <td>0.047114</td>\n",
       "    </tr>\n",
       "    <tr>\n",
       "      <th>Index2</th>\n",
       "      <td>-1.246128</td>\n",
       "      <td>0.889024</td>\n",
       "      <td>-2.457309</td>\n",
       "    </tr>\n",
       "    <tr>\n",
       "      <th>Index3</th>\n",
       "      <td>-0.733757</td>\n",
       "      <td>1.345982</td>\n",
       "      <td>-0.639646</td>\n",
       "    </tr>\n",
       "    <tr>\n",
       "      <th rowspan=\"3\" valign=\"top\">Group2</th>\n",
       "      <th>Index1</th>\n",
       "      <td>0.538556</td>\n",
       "      <td>0.329624</td>\n",
       "      <td>-1.875286</td>\n",
       "    </tr>\n",
       "    <tr>\n",
       "      <th>Index2</th>\n",
       "      <td>0.057837</td>\n",
       "      <td>0.918757</td>\n",
       "      <td>0.104299</td>\n",
       "    </tr>\n",
       "    <tr>\n",
       "      <th>Index3</th>\n",
       "      <td>-0.482187</td>\n",
       "      <td>-2.348443</td>\n",
       "      <td>-0.949449</td>\n",
       "    </tr>\n",
       "    <tr>\n",
       "      <th rowspan=\"3\" valign=\"top\">Group3</th>\n",
       "      <th>Index1</th>\n",
       "      <td>1.316031</td>\n",
       "      <td>0.727311</td>\n",
       "      <td>-0.136721</td>\n",
       "    </tr>\n",
       "    <tr>\n",
       "      <th>Index2</th>\n",
       "      <td>0.240149</td>\n",
       "      <td>-0.088559</td>\n",
       "      <td>-0.120324</td>\n",
       "    </tr>\n",
       "    <tr>\n",
       "      <th>Index3</th>\n",
       "      <td>0.775475</td>\n",
       "      <td>0.907580</td>\n",
       "      <td>1.354074</td>\n",
       "    </tr>\n",
       "  </tbody>\n",
       "</table>\n",
       "</div>"
      ],
      "text/plain": [
       "                       A         B         C\n",
       "Groups Indexes                              \n",
       "Group1 Index1  -1.169962 -1.043647  0.047114\n",
       "       Index2  -1.246128  0.889024 -2.457309\n",
       "       Index3  -0.733757  1.345982 -0.639646\n",
       "Group2 Index1   0.538556  0.329624 -1.875286\n",
       "       Index2   0.057837  0.918757  0.104299\n",
       "       Index3  -0.482187 -2.348443 -0.949449\n",
       "Group3 Index1   1.316031  0.727311 -0.136721\n",
       "       Index2   0.240149 -0.088559 -0.120324\n",
       "       Index3   0.775475  0.907580  1.354074"
      ]
     },
     "execution_count": 21,
     "metadata": {},
     "output_type": "execute_result"
    }
   ],
   "source": [
    "df"
   ]
  },
  {
   "cell_type": "code",
   "execution_count": 22,
   "id": "0767ab21",
   "metadata": {},
   "outputs": [
    {
     "data": {
      "text/html": [
       "<div>\n",
       "<style scoped>\n",
       "    .dataframe tbody tr th:only-of-type {\n",
       "        vertical-align: middle;\n",
       "    }\n",
       "\n",
       "    .dataframe tbody tr th {\n",
       "        vertical-align: top;\n",
       "    }\n",
       "\n",
       "    .dataframe thead th {\n",
       "        text-align: right;\n",
       "    }\n",
       "</style>\n",
       "<table border=\"1\" class=\"dataframe\">\n",
       "  <thead>\n",
       "    <tr style=\"text-align: right;\">\n",
       "      <th></th>\n",
       "      <th>A</th>\n",
       "      <th>B</th>\n",
       "      <th>C</th>\n",
       "    </tr>\n",
       "    <tr>\n",
       "      <th>Groups</th>\n",
       "      <th></th>\n",
       "      <th></th>\n",
       "      <th></th>\n",
       "    </tr>\n",
       "  </thead>\n",
       "  <tbody>\n",
       "    <tr>\n",
       "      <th>Group1</th>\n",
       "      <td>-1.169962</td>\n",
       "      <td>-1.043647</td>\n",
       "      <td>0.047114</td>\n",
       "    </tr>\n",
       "    <tr>\n",
       "      <th>Group2</th>\n",
       "      <td>0.538556</td>\n",
       "      <td>0.329624</td>\n",
       "      <td>-1.875286</td>\n",
       "    </tr>\n",
       "    <tr>\n",
       "      <th>Group3</th>\n",
       "      <td>1.316031</td>\n",
       "      <td>0.727311</td>\n",
       "      <td>-0.136721</td>\n",
       "    </tr>\n",
       "  </tbody>\n",
       "</table>\n",
       "</div>"
      ],
      "text/plain": [
       "               A         B         C\n",
       "Groups                              \n",
       "Group1 -1.169962 -1.043647  0.047114\n",
       "Group2  0.538556  0.329624 -1.875286\n",
       "Group3  1.316031  0.727311 -0.136721"
      ]
     },
     "execution_count": 22,
     "metadata": {},
     "output_type": "execute_result"
    }
   ],
   "source": [
    "df.xs(\"Index1\", level = \"Indexes\") "
   ]
  },
  {
   "cell_type": "code",
   "execution_count": null,
   "id": "1fbdf4f6",
   "metadata": {},
   "outputs": [],
   "source": []
  }
 ],
 "metadata": {
  "kernelspec": {
   "display_name": "Python 3",
   "language": "python",
   "name": "python3"
  },
  "language_info": {
   "codemirror_mode": {
    "name": "ipython",
    "version": 3
   },
   "file_extension": ".py",
   "mimetype": "text/x-python",
   "name": "python",
   "nbconvert_exporter": "python",
   "pygments_lexer": "ipython3",
   "version": "3.8.8"
  }
 },
 "nbformat": 4,
 "nbformat_minor": 5
}
