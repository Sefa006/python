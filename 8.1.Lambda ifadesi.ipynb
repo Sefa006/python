{
 "cells": [
  {
   "cell_type": "markdown",
   "metadata": {},
   "source": [
    "# Lambda İfadeleri "
   ]
  },
  {
   "cell_type": "markdown",
   "metadata": {},
   "source": [
    "Lambda ifadeleri, fonksiyonlarımızı oluşturmak için pratik bir yöntemdir. Lambda ifadeleri list comprehensin'a benzemektedir. Bu nedenle list comprehension'ı hatırlayarak devam edelim."
   ]
  },
  {
   "cell_type": "code",
   "execution_count": null,
   "metadata": {},
   "outputs": [],
   "source": [
    "liste1 = [1,2,3,4,5]\n",
    "\n",
    "liste2 = [i * 2 for i in liste1]"
   ]
  },
  {
   "cell_type": "code",
   "execution_count": null,
   "metadata": {},
   "outputs": [],
   "source": [
    "liste2"
   ]
  },
  {
   "cell_type": "markdown",
   "metadata": {},
   "source": [
    "Lambda ifadeleri, list comprehensina'a oldukça benzerdir ve tek bir satırda fonksiyon tanımlamamıza olanak tanır. \n",
    "\n",
    "Lambda ifadeleri\n",
    "\n",
    "etiket = lambda parametre1, parametre2,... : İşlem\n",
    "\n",
    "yapısıyla kullanılır. \n"
   ]
  },
  {
   "cell_type": "code",
   "execution_count": null,
   "metadata": {
    "scrolled": true
   },
   "outputs": [],
   "source": [
    "def ikikatı(x):\n",
    "    return x*2\n",
    "print(ikikatı(3))"
   ]
  },
  {
   "cell_type": "code",
   "execution_count": null,
   "metadata": {
    "scrolled": true
   },
   "outputs": [],
   "source": [
    "ikikatı = lambda x : x * 2\n",
    "\n",
    "print(ikikatı(3))"
   ]
  },
  {
   "cell_type": "code",
   "execution_count": null,
   "metadata": {},
   "outputs": [],
   "source": [
    "def toplama(x,y,z):\n",
    "    return x + y + z \n",
    "print(toplama(10,20,90))"
   ]
  },
  {
   "cell_type": "code",
   "execution_count": null,
   "metadata": {},
   "outputs": [],
   "source": [
    "toplama2 = lambda x,y,z : x + y + z\n",
    " \n",
    "print(toplama2(10,20,90))"
   ]
  },
  {
   "cell_type": "code",
   "execution_count": null,
   "metadata": {},
   "outputs": [],
   "source": [
    "def tersçevir(s):\n",
    "    return s[::-1]\n",
    " \n",
    "print(tersçevir(\"Python Programlama\"))"
   ]
  },
  {
   "cell_type": "code",
   "execution_count": null,
   "metadata": {},
   "outputs": [],
   "source": [
    "ters = lambda s: s[::-1]\n",
    " \n",
    "print(ters(\"Python\"))"
   ]
  },
  {
   "cell_type": "code",
   "execution_count": null,
   "metadata": {},
   "outputs": [],
   "source": [
    "def tekçift(sayı):\n",
    "    return sayı % 2 == 0"
   ]
  },
  {
   "cell_type": "code",
   "execution_count": null,
   "metadata": {},
   "outputs": [],
   "source": [
    "print(tekçift(15))"
   ]
  },
  {
   "cell_type": "code",
   "execution_count": null,
   "metadata": {},
   "outputs": [],
   "source": [
    "print(tekçift(8))"
   ]
  },
  {
   "cell_type": "code",
   "execution_count": null,
   "metadata": {},
   "outputs": [],
   "source": [
    "cifttek = lambda sayı : sayı % 2 == 0"
   ]
  },
  {
   "cell_type": "code",
   "execution_count": null,
   "metadata": {},
   "outputs": [],
   "source": [
    "print(cifttek(27))"
   ]
  },
  {
   "cell_type": "code",
   "execution_count": null,
   "metadata": {},
   "outputs": [],
   "source": [
    "print(cifttek(26))"
   ]
  },
  {
   "cell_type": "markdown",
   "metadata": {},
   "source": [
    "Lambda ifadeleri, tek satırda tanımlanabilecek küçük fonksiyonlar için kullanılır. Büyük kodlar içeren fonksiyonlarda, fonksiyon tanımlama kuralları ile fonksiyon tanımlanmalıdır. "
   ]
  },
  {
   "cell_type": "markdown",
   "metadata": {},
   "source": [
    "# UYGULAMA : Bir  sayının asal sayı olup olmadığının kontrolü"
   ]
  },
  {
   "cell_type": "code",
   "execution_count": null,
   "metadata": {},
   "outputs": [],
   "source": [
    "\"\"\"\n",
    "Asal sayılar sadece kendisine ve 1 sayısına bölünebilirler\n",
    "\n",
    "\"\"\"\n",
    "\n",
    "def asal_mi(sayı):\n",
    "    if (sayı == 1):\n",
    "        return True\n",
    "    elif (sayı == 2):\n",
    "        return True\n",
    "\n",
    "    else:\n",
    "        for i in range(2,sayı):\n",
    "            if (sayı % i ==0):\n",
    "                return False\n",
    "        return True\n",
    "    \n",
    "\"\"\" 2'den sayıya kadar, sayı dahil değil bir liste oluşturduk, eğer bu liste içindeki\n",
    "bir sayı, sayıyı tam bölüyorsa o zaman sayımız asal değildir.\"\"\"\n",
    "\n",
    "while True:\n",
    "    sayı =input(\"Sayı:\")\n",
    "\n",
    "    if (sayı == \"q\"):\n",
    "        print(\"program sonlanıyor\")\n",
    "        break\n",
    "\n",
    "    else:\n",
    "        sayı = int(sayı)\n",
    "\n",
    "    if (asal_mi(sayı)):\n",
    "        print(sayı,\"asal bir sayıdır\")\n",
    "    else:\n",
    "        print(sayı, \"asal bir sayı değildir.\")"
   ]
  },
  {
   "cell_type": "code",
   "execution_count": null,
   "metadata": {
    "scrolled": false
   },
   "outputs": [],
   "source": [
    "\"\"\"\n",
    "Bir sayının tam bölenleri\n",
    "\n",
    "Sayıya kadar liste oluşturabilir ve bu liste içinde olup\n",
    "sayıyı tam bölenleri ayırabiliriz.\n",
    "\n",
    "\"\"\"\n",
    "\n",
    "def tambölenler(sayı):\n",
    "    tam_bölenler = []\n",
    "\n",
    "    for i in range(2,sayı+1):\n",
    "\n",
    "        if (sayı % i == 0):\n",
    "            tam_bölenler.append(i)\n",
    "    return tam_bölenler\n",
    "\n",
    "while True:\n",
    "    sayı = input(\"Sayı:\")\n",
    "\n",
    "    if (sayı == \"q\"):\n",
    "        print(\"Program sonlanıyor\")\n",
    "        break\n",
    "    else:\n",
    "        sayı = int(sayı)\n",
    "        print(\"Tam Bölneler:\",tambölenler(sayı))"
   ]
  },
  {
   "cell_type": "code",
   "execution_count": null,
   "metadata": {},
   "outputs": [],
   "source": []
  },
  {
   "cell_type": "code",
   "execution_count": null,
   "metadata": {},
   "outputs": [],
   "source": []
  }
 ],
 "metadata": {
  "kernelspec": {
   "display_name": "Python 3",
   "language": "python",
   "name": "python3"
  },
  "language_info": {
   "codemirror_mode": {
    "name": "ipython",
    "version": 3
   },
   "file_extension": ".py",
   "mimetype": "text/x-python",
   "name": "python",
   "nbconvert_exporter": "python",
   "pygments_lexer": "ipython3",
   "version": "3.8.8"
  }
 },
 "nbformat": 4,
 "nbformat_minor": 4
}
