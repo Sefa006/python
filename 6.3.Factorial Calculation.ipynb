{
 "cells": [
  {
   "cell_type": "code",
   "execution_count": null,
   "metadata": {},
   "outputs": [
    {
     "name": "stdout",
     "output_type": "stream",
     "text": [
      "\n",
      "**************************\n",
      "Faktöriyel bulma programı \n",
      "\n",
      "çıkmak için q'e basınız. \n",
      "**************************\n",
      "sayı:8\n",
      "factoriyel 1 i:  2\n",
      "factoriyel 2 i:  3\n",
      "factoriyel 6 i:  4\n",
      "factoriyel 24 i:  5\n",
      "factoriyel 120 i:  6\n",
      "factoriyel 720 i:  7\n",
      "factoriyel 5040 i:  8\n",
      "8 sayısının faktöriyeli = 40320' dir\n",
      "_______________\n"
     ]
    }
   ],
   "source": [
    "print(\"\"\"\n",
    "**************************\n",
    "Faktöriyel bulma programı \n",
    "\n",
    "çıkmak için q'e basınız. \n",
    "**************************\"\"\")\n",
    "\n",
    "while True:\n",
    "    sayı = input(\"sayı:\")\n",
    "    if (sayı == \"q\") :\n",
    "        print(\"Program sonlandırılıyor...\")\n",
    "\n",
    "        break\n",
    "\n",
    "    else:\n",
    "        sayı = int(sayı)\n",
    "\n",
    "        factoriyel = 1\n",
    "\n",
    "        for i in range(2,sayı+1):\n",
    "            print(\"factoriyel\", factoriyel, \"i: \",i)\n",
    "            factoriyel *= i\n",
    "        print(\"{} sayısının faktöriyeli = {}' dir\".format(sayı,factoriyel))\n",
    "        print(\"_______________\")"
   ]
  },
  {
   "cell_type": "code",
   "execution_count": null,
   "metadata": {},
   "outputs": [],
   "source": []
  }
 ],
 "metadata": {
  "kernelspec": {
   "display_name": "Python 3",
   "language": "python",
   "name": "python3"
  },
  "language_info": {
   "codemirror_mode": {
    "name": "ipython",
    "version": 3
   },
   "file_extension": ".py",
   "mimetype": "text/x-python",
   "name": "python",
   "nbconvert_exporter": "python",
   "pygments_lexer": "ipython3",
   "version": "3.8.8"
  }
 },
 "nbformat": 4,
 "nbformat_minor": 4
}
