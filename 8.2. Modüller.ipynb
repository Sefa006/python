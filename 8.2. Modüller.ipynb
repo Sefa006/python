{
 "cells": [
  {
   "cell_type": "markdown",
   "metadata": {},
   "source": [
    "# Modüller"
   ]
  },
  {
   "cell_type": "markdown",
   "metadata": {},
   "source": [
    "Python' da herbir dosya bir modül olarak kabul ediliyor ve her bir modül kendi içinde fonksiyonlar, sınıflar ve objeler barındırır. Bu modülleri programlarda kullanarak modül içerisindeki fonksiyon, sınıf ve objeleri kullanabiliyoruz. Böylece daha hızlı ve daha etkin programlar yazılabilmektedir. "
   ]
  },
  {
   "cell_type": "markdown",
   "metadata": {},
   "source": [
    "Python programcılarının hazırladığı modüller, internet veya programcıların github hesaplarında bulunabilmektedir. Bu modüller, bir başka programcı tarafından kullanılabilmektedir. "
   ]
  },
  {
   "cell_type": "markdown",
   "metadata": {},
   "source": [
    "Bu modüllerin bir kısmı Python kurulumu ile bilgisayarımıza da yüklenmektedir. Standart kullanım yapan bir kişi \n",
    "\n",
    "c:\\Users\\bilgisayar ismi\\AppDAta\\Local\\Programs\\Python\\Python (sürüm no) \n",
    "    \n",
    "klasöründeki Lin directorysinde bu modülleri görebilir."
   ]
  },
  {
   "cell_type": "markdown",
   "metadata": {},
   "source": [
    "github daki Python modülleri için Google'da github python modules araması yapılırsa, birçok modül olduğu görülebilir. "
   ]
  },
  {
   "cell_type": "markdown",
   "metadata": {},
   "source": [
    "# Modül kullanımı - Math modülü "
   ]
  },
  {
   "cell_type": "markdown",
   "metadata": {},
   "source": [
    "Math modülü, Pythonda halihazırda olan bir modüldür. Modülü, programa dahil etmenin iki yöntemi bulunmaktadır ve bu yöntemlerin amaca göre belirli üstünlükleri bulunmaktadır. "
   ]
  },
  {
   "cell_type": "markdown",
   "metadata": {},
   "source": [
    "# Birinci Yöntem "
   ]
  },
  {
   "cell_type": "markdown",
   "metadata": {},
   "source": [
    "import modül_adı "
   ]
  },
  {
   "cell_type": "code",
   "execution_count": null,
   "metadata": {},
   "outputs": [],
   "source": [
    "import math"
   ]
  },
  {
   "cell_type": "markdown",
   "metadata": {},
   "source": [
    "dir(modül adı) ile modülün içindeki fonksiyonlar ve tanımlar görülebilmektedir. "
   ]
  },
  {
   "cell_type": "code",
   "execution_count": null,
   "metadata": {},
   "outputs": [],
   "source": [
    "dir(math)"
   ]
  },
  {
   "cell_type": "markdown",
   "metadata": {},
   "source": [
    "Yukarıda dir(modül adı) yazıp çalıştırdıktan sonra, liste olarak dökülen her bir terim, math modülünde var olan bir fonksiyonu göstermektedir. Fakat bu fonksiyonların ne iş yaptığını görmek için, help(math)  yazarak çalıştırılması gerekmektedir. "
   ]
  },
  {
   "cell_type": "code",
   "execution_count": null,
   "metadata": {},
   "outputs": [],
   "source": [
    "help(math)"
   ]
  },
  {
   "cell_type": "code",
   "execution_count": null,
   "metadata": {},
   "outputs": [],
   "source": [
    "help(math.cos)"
   ]
  },
  {
   "cell_type": "markdown",
   "metadata": {},
   "source": [
    "math modülündeki Faktröiyel fonksiyonunu kullanalım. "
   ]
  },
  {
   "cell_type": "code",
   "execution_count": null,
   "metadata": {},
   "outputs": [],
   "source": [
    "math.factorial(5)"
   ]
  },
  {
   "cell_type": "code",
   "execution_count": null,
   "metadata": {},
   "outputs": [],
   "source": [
    "math.factorial(8)"
   ]
  },
  {
   "cell_type": "code",
   "execution_count": null,
   "metadata": {},
   "outputs": [],
   "source": [
    "math.floor(5.6)"
   ]
  },
  {
   "cell_type": "code",
   "execution_count": null,
   "metadata": {},
   "outputs": [],
   "source": [
    "math.ceil(5.6)"
   ]
  },
  {
   "cell_type": "code",
   "execution_count": null,
   "metadata": {},
   "outputs": [],
   "source": [
    "math.cos(math.radians(90))"
   ]
  },
  {
   "cell_type": "code",
   "execution_count": null,
   "metadata": {},
   "outputs": [],
   "source": [
    "help(math.cos)"
   ]
  },
  {
   "cell_type": "markdown",
   "metadata": {},
   "source": [
    "Modülü, farklı bir isimle kullanmak istersek : "
   ]
  },
  {
   "cell_type": "code",
   "execution_count": 1,
   "metadata": {},
   "outputs": [],
   "source": [
    "import math as matematik"
   ]
  },
  {
   "cell_type": "code",
   "execution_count": 3,
   "metadata": {},
   "outputs": [
    {
     "ename": "NameError",
     "evalue": "name 'math' is not defined",
     "output_type": "error",
     "traceback": [
      "\u001b[1;31m---------------------------------------------------------------------------\u001b[0m",
      "\u001b[1;31mNameError\u001b[0m                                 Traceback (most recent call last)",
      "\u001b[1;32m<ipython-input-3-da28f4b0b830>\u001b[0m in \u001b[0;36m<module>\u001b[1;34m\u001b[0m\n\u001b[1;32m----> 1\u001b[1;33m \u001b[0mmath\u001b[0m\u001b[1;33m.\u001b[0m\u001b[0mfactorial\u001b[0m\u001b[1;33m(\u001b[0m\u001b[1;36m5\u001b[0m\u001b[1;33m)\u001b[0m\u001b[1;33m\u001b[0m\u001b[1;33m\u001b[0m\u001b[0m\n\u001b[0m",
      "\u001b[1;31mNameError\u001b[0m: name 'math' is not defined"
     ]
    }
   ],
   "source": [
    "math.factorial(5)"
   ]
  },
  {
   "cell_type": "code",
   "execution_count": null,
   "metadata": {},
   "outputs": [],
   "source": []
  },
  {
   "cell_type": "code",
   "execution_count": 2,
   "metadata": {},
   "outputs": [
    {
     "data": {
      "text/plain": [
       "120"
      ]
     },
     "execution_count": 2,
     "metadata": {},
     "output_type": "execute_result"
    }
   ],
   "source": [
    "matematik.factorial(5)"
   ]
  },
  {
   "cell_type": "markdown",
   "metadata": {},
   "source": [
    "# İkinci Yöntem"
   ]
  },
  {
   "cell_type": "markdown",
   "metadata": {},
   "source": [
    "from modül_Adı import *"
   ]
  },
  {
   "cell_type": "markdown",
   "metadata": {},
   "source": [
    "*' ın anlamı, modülün içindeki herbir fonksiyonu dahil et anlamındadır"
   ]
  },
  {
   "cell_type": "code",
   "execution_count": null,
   "metadata": {},
   "outputs": [],
   "source": [
    "from math import *"
   ]
  },
  {
   "cell_type": "code",
   "execution_count": null,
   "metadata": {},
   "outputs": [],
   "source": [
    "factorial(5)"
   ]
  },
  {
   "cell_type": "code",
   "execution_count": null,
   "metadata": {},
   "outputs": [],
   "source": [
    "floor(5.6)"
   ]
  },
  {
   "cell_type": "code",
   "execution_count": null,
   "metadata": {},
   "outputs": [],
   "source": [
    "ceil(19.9)"
   ]
  },
  {
   "cell_type": "markdown",
   "metadata": {},
   "source": [
    "Sözgelimi belirli bir modülün içerisindeki sadece belirli modülleri kullanmak istiyorsak ne yapmalıyız ? \n",
    "\n",
    "Yukarıda math modülü çalıştırıldığı için bu aşamada öncelikle Jupyter notebook' u sıfırlayalım ! Bu amaç için Kernel sekmesinden Restart seçimi yapılmalıdır. "
   ]
  },
  {
   "cell_type": "code",
   "execution_count": null,
   "metadata": {},
   "outputs": [],
   "source": [
    "from math import floor,ceil"
   ]
  },
  {
   "cell_type": "markdown",
   "metadata": {},
   "source": [
    "yukarıdaki komut satırı ile sadece math modülündeki floor ve ceil fonksiyonları aktif hale gelmiş durumdadır. Fakat bu yöntemde bazı sıkıntılar olabilir. Bunu görmek amacıyla kendi Faktöriyel programımız üzerinden çalışabiliriz. "
   ]
  },
  {
   "cell_type": "markdown",
   "metadata": {},
   "source": [
    "yeniden restrat yapalım "
   ]
  },
  {
   "cell_type": "code",
   "execution_count": null,
   "metadata": {},
   "outputs": [],
   "source": [
    "def factorial(sayı):\n",
    "    print(\"Benim Fonksiyonum\")\n",
    "    \n",
    "    faktoriyel = 1\n",
    "    if (sayı == 0 or sayı ==1):\n",
    "        return 1\n",
    "    else:\n",
    "        while(sayı >= 1):\n",
    "            faktoriyel *= sayı\n",
    "            sayı -= 1\n",
    "        return faktoriyel"
   ]
  },
  {
   "cell_type": "code",
   "execution_count": null,
   "metadata": {},
   "outputs": [],
   "source": [
    "from math import *"
   ]
  },
  {
   "cell_type": "code",
   "execution_count": null,
   "metadata": {},
   "outputs": [],
   "source": [
    "factorial(5)"
   ]
  },
  {
   "cell_type": "markdown",
   "metadata": {},
   "source": [
    "Python burada dikkat edilirse son çalıştırılan komuta göre yani çağırılan math modülündeki factorial fonksiyonunu çalıştırıdı. Bunu, \"Benim Fonksiyonum\" yazmamasından anlayabliriz. Dolayısıyla bu uygulamada python son çağrılan komutu kullanmış oldu. Eğer önce math modülü aktif edilip daha sonra bizim tanımladığımız factorial fonksiyonu çalıştırılsaydı da bu sefer son komut bizim fonksiyonumuz olduğundan bu seferde bizim factorial fonksiyonumuzu çalıştıracaktı. "
   ]
  },
  {
   "cell_type": "markdown",
   "metadata": {},
   "source": [
    "# Kendi modülümüzü yazmak "
   ]
  },
  {
   "cell_type": "markdown",
   "metadata": {},
   "source": [
    "Uygulayacağımız adımlar şu şekilde;\n",
    "                1. Herhangi bir tane klasör oluşturuyoruz.\n",
    "                2. Modülümüz ve deneme Python dosyamız aynı dizinde olması gerektiği için 2 tane Python dosyasını da\n",
    "                bu klasör altında oluşturuyoruz.\n",
    "                3. modul1.py ve deneme.py dosyası oluşturuyoruz.\n",
    "                4. modul1.py dosyasının içine istediğimiz kadar fonksiyonu yazıyoruz.\n",
    "                5. Son olarak da deneme.py dosyasının içinde bu modul1.py modülünü kullanıyoruz.\n",
    "\n",
    "Peki yazdığımız bir modülü her yerden kullanmak için ne yapacağız ? Bunun için yazdığımız modul1.py dosyasının Python35/Lib klasörünün altına atmamız gerekiyor. Böylelikle bu modülü de math modülü gibi her dosyada kullanabiliriz."
   ]
  },
  {
   "cell_type": "markdown",
   "metadata": {},
   "source": [
    "Bkz. pdf ders notu "
   ]
  },
  {
   "cell_type": "markdown",
   "metadata": {},
   "source": [
    "Tanımlanan modül ile dosyanın aynı klasörde olması gerekmektedir. Ancak hazırlanan bir modülün heryerden çalışması için, python programının kurulduğu klasördeki Lib klasörü içine hazırlanan modülün kopyalanması gerekmektedir."
   ]
  },
  {
   "cell_type": "markdown",
   "metadata": {},
   "source": [
    "Bu işlem yapıldıktan sonra hazırlanan modül heryerden çağırılabilir. "
   ]
  },
  {
   "cell_type": "markdown",
   "metadata": {},
   "source": [
    "dir modul1 veya help(modul1) komutları çalıştırıldığında da pythonun kendi özel dosylaır haricinde, modül içindeki fonksiyonlar ve üç tırnak içinde yazılan fonksiyon tanımları görüntülenebilir. "
   ]
  },
  {
   "cell_type": "code",
   "execution_count": null,
   "metadata": {},
   "outputs": [],
   "source": [
    "import matplotlib"
   ]
  },
  {
   "cell_type": "code",
   "execution_count": null,
   "metadata": {},
   "outputs": [],
   "source": []
  }
 ],
 "metadata": {
  "kernelspec": {
   "display_name": "Python 3",
   "language": "python",
   "name": "python3"
  },
  "language_info": {
   "codemirror_mode": {
    "name": "ipython",
    "version": 3
   },
   "file_extension": ".py",
   "mimetype": "text/x-python",
   "name": "python",
   "nbconvert_exporter": "python",
   "pygments_lexer": "ipython3",
   "version": "3.8.5"
  }
 },
 "nbformat": 4,
 "nbformat_minor": 4
}
